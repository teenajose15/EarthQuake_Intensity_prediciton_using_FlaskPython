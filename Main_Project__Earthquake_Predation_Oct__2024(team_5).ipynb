{
  "cells": [
    {
      "cell_type": "markdown",
      "source": [
        "**Imported all the necessary librairies**"
      ],
      "metadata": {
        "id": "uBJDBTfVvh1U"
      }
    },
    {
      "cell_type": "code",
      "execution_count": null,
      "metadata": {
        "id": "2YMsmwg_CCl7"
      },
      "outputs": [],
      "source": [
        "import pandas as pd\n",
        "import numpy as np\n",
        "import matplotlib.pyplot as plt\n",
        "import seaborn as sns\n",
        "from sklearn.preprocessing import LabelEncoder\n",
        "from sklearn.model_selection import train_test_split\n",
        "from sklearn.preprocessing import StandardScaler\n",
        "from sklearn.metrics import mean_squared_error, r2_score\n",
        "import warnings\n",
        "warnings.filterwarnings('ignore')"
      ]
    },
    {
      "cell_type": "markdown",
      "source": [
        "Read csv file"
      ],
      "metadata": {
        "id": "hry8q91BwT2G"
      }
    },
    {
      "cell_type": "code",
      "execution_count": null,
      "metadata": {
        "id": "18purzFsCEQ1",
        "colab": {
          "base_uri": "https://localhost:8080/",
          "height": 321
        },
        "outputId": "4fce8038-dbae-4bb6-8cd5-7f9806b94e73"
      },
      "outputs": [
        {
          "output_type": "error",
          "ename": "FileNotFoundError",
          "evalue": "[Errno 2] No such file or directory: '/content/Significant_Earthquakes (1).csv'",
          "traceback": [
            "\u001b[0;31m---------------------------------------------------------------------------\u001b[0m",
            "\u001b[0;31mFileNotFoundError\u001b[0m                         Traceback (most recent call last)",
            "\u001b[0;32m<ipython-input-4-01f851aa895a>\u001b[0m in \u001b[0;36m<cell line: 0>\u001b[0;34m()\u001b[0m\n\u001b[0;32m----> 1\u001b[0;31m \u001b[0mdf\u001b[0m\u001b[0;34m=\u001b[0m\u001b[0mpd\u001b[0m\u001b[0;34m.\u001b[0m\u001b[0mread_csv\u001b[0m\u001b[0;34m(\u001b[0m\u001b[0;34m\"/content/Significant_Earthquakes (1).csv\"\u001b[0m\u001b[0;34m)\u001b[0m\u001b[0;34m\u001b[0m\u001b[0;34m\u001b[0m\u001b[0m\n\u001b[0m\u001b[1;32m      2\u001b[0m \u001b[0mdf\u001b[0m\u001b[0;34m.\u001b[0m\u001b[0mhead\u001b[0m\u001b[0;34m(\u001b[0m\u001b[0;34m)\u001b[0m\u001b[0;34m\u001b[0m\u001b[0;34m\u001b[0m\u001b[0m\n",
            "\u001b[0;32m/usr/local/lib/python3.11/dist-packages/pandas/io/parsers/readers.py\u001b[0m in \u001b[0;36mread_csv\u001b[0;34m(filepath_or_buffer, sep, delimiter, header, names, index_col, usecols, dtype, engine, converters, true_values, false_values, skipinitialspace, skiprows, skipfooter, nrows, na_values, keep_default_na, na_filter, verbose, skip_blank_lines, parse_dates, infer_datetime_format, keep_date_col, date_parser, date_format, dayfirst, cache_dates, iterator, chunksize, compression, thousands, decimal, lineterminator, quotechar, quoting, doublequote, escapechar, comment, encoding, encoding_errors, dialect, on_bad_lines, delim_whitespace, low_memory, memory_map, float_precision, storage_options, dtype_backend)\u001b[0m\n\u001b[1;32m   1024\u001b[0m     \u001b[0mkwds\u001b[0m\u001b[0;34m.\u001b[0m\u001b[0mupdate\u001b[0m\u001b[0;34m(\u001b[0m\u001b[0mkwds_defaults\u001b[0m\u001b[0;34m)\u001b[0m\u001b[0;34m\u001b[0m\u001b[0;34m\u001b[0m\u001b[0m\n\u001b[1;32m   1025\u001b[0m \u001b[0;34m\u001b[0m\u001b[0m\n\u001b[0;32m-> 1026\u001b[0;31m     \u001b[0;32mreturn\u001b[0m \u001b[0m_read\u001b[0m\u001b[0;34m(\u001b[0m\u001b[0mfilepath_or_buffer\u001b[0m\u001b[0;34m,\u001b[0m \u001b[0mkwds\u001b[0m\u001b[0;34m)\u001b[0m\u001b[0;34m\u001b[0m\u001b[0;34m\u001b[0m\u001b[0m\n\u001b[0m\u001b[1;32m   1027\u001b[0m \u001b[0;34m\u001b[0m\u001b[0m\n\u001b[1;32m   1028\u001b[0m \u001b[0;34m\u001b[0m\u001b[0m\n",
            "\u001b[0;32m/usr/local/lib/python3.11/dist-packages/pandas/io/parsers/readers.py\u001b[0m in \u001b[0;36m_read\u001b[0;34m(filepath_or_buffer, kwds)\u001b[0m\n\u001b[1;32m    618\u001b[0m \u001b[0;34m\u001b[0m\u001b[0m\n\u001b[1;32m    619\u001b[0m     \u001b[0;31m# Create the parser.\u001b[0m\u001b[0;34m\u001b[0m\u001b[0;34m\u001b[0m\u001b[0m\n\u001b[0;32m--> 620\u001b[0;31m     \u001b[0mparser\u001b[0m \u001b[0;34m=\u001b[0m \u001b[0mTextFileReader\u001b[0m\u001b[0;34m(\u001b[0m\u001b[0mfilepath_or_buffer\u001b[0m\u001b[0;34m,\u001b[0m \u001b[0;34m**\u001b[0m\u001b[0mkwds\u001b[0m\u001b[0;34m)\u001b[0m\u001b[0;34m\u001b[0m\u001b[0;34m\u001b[0m\u001b[0m\n\u001b[0m\u001b[1;32m    621\u001b[0m \u001b[0;34m\u001b[0m\u001b[0m\n\u001b[1;32m    622\u001b[0m     \u001b[0;32mif\u001b[0m \u001b[0mchunksize\u001b[0m \u001b[0;32mor\u001b[0m \u001b[0miterator\u001b[0m\u001b[0;34m:\u001b[0m\u001b[0;34m\u001b[0m\u001b[0;34m\u001b[0m\u001b[0m\n",
            "\u001b[0;32m/usr/local/lib/python3.11/dist-packages/pandas/io/parsers/readers.py\u001b[0m in \u001b[0;36m__init__\u001b[0;34m(self, f, engine, **kwds)\u001b[0m\n\u001b[1;32m   1618\u001b[0m \u001b[0;34m\u001b[0m\u001b[0m\n\u001b[1;32m   1619\u001b[0m         \u001b[0mself\u001b[0m\u001b[0;34m.\u001b[0m\u001b[0mhandles\u001b[0m\u001b[0;34m:\u001b[0m \u001b[0mIOHandles\u001b[0m \u001b[0;34m|\u001b[0m \u001b[0;32mNone\u001b[0m \u001b[0;34m=\u001b[0m \u001b[0;32mNone\u001b[0m\u001b[0;34m\u001b[0m\u001b[0;34m\u001b[0m\u001b[0m\n\u001b[0;32m-> 1620\u001b[0;31m         \u001b[0mself\u001b[0m\u001b[0;34m.\u001b[0m\u001b[0m_engine\u001b[0m \u001b[0;34m=\u001b[0m \u001b[0mself\u001b[0m\u001b[0;34m.\u001b[0m\u001b[0m_make_engine\u001b[0m\u001b[0;34m(\u001b[0m\u001b[0mf\u001b[0m\u001b[0;34m,\u001b[0m \u001b[0mself\u001b[0m\u001b[0;34m.\u001b[0m\u001b[0mengine\u001b[0m\u001b[0;34m)\u001b[0m\u001b[0;34m\u001b[0m\u001b[0;34m\u001b[0m\u001b[0m\n\u001b[0m\u001b[1;32m   1621\u001b[0m \u001b[0;34m\u001b[0m\u001b[0m\n\u001b[1;32m   1622\u001b[0m     \u001b[0;32mdef\u001b[0m \u001b[0mclose\u001b[0m\u001b[0;34m(\u001b[0m\u001b[0mself\u001b[0m\u001b[0;34m)\u001b[0m \u001b[0;34m->\u001b[0m \u001b[0;32mNone\u001b[0m\u001b[0;34m:\u001b[0m\u001b[0;34m\u001b[0m\u001b[0;34m\u001b[0m\u001b[0m\n",
            "\u001b[0;32m/usr/local/lib/python3.11/dist-packages/pandas/io/parsers/readers.py\u001b[0m in \u001b[0;36m_make_engine\u001b[0;34m(self, f, engine)\u001b[0m\n\u001b[1;32m   1878\u001b[0m                 \u001b[0;32mif\u001b[0m \u001b[0;34m\"b\"\u001b[0m \u001b[0;32mnot\u001b[0m \u001b[0;32min\u001b[0m \u001b[0mmode\u001b[0m\u001b[0;34m:\u001b[0m\u001b[0;34m\u001b[0m\u001b[0;34m\u001b[0m\u001b[0m\n\u001b[1;32m   1879\u001b[0m                     \u001b[0mmode\u001b[0m \u001b[0;34m+=\u001b[0m \u001b[0;34m\"b\"\u001b[0m\u001b[0;34m\u001b[0m\u001b[0;34m\u001b[0m\u001b[0m\n\u001b[0;32m-> 1880\u001b[0;31m             self.handles = get_handle(\n\u001b[0m\u001b[1;32m   1881\u001b[0m                 \u001b[0mf\u001b[0m\u001b[0;34m,\u001b[0m\u001b[0;34m\u001b[0m\u001b[0;34m\u001b[0m\u001b[0m\n\u001b[1;32m   1882\u001b[0m                 \u001b[0mmode\u001b[0m\u001b[0;34m,\u001b[0m\u001b[0;34m\u001b[0m\u001b[0;34m\u001b[0m\u001b[0m\n",
            "\u001b[0;32m/usr/local/lib/python3.11/dist-packages/pandas/io/common.py\u001b[0m in \u001b[0;36mget_handle\u001b[0;34m(path_or_buf, mode, encoding, compression, memory_map, is_text, errors, storage_options)\u001b[0m\n\u001b[1;32m    871\u001b[0m         \u001b[0;32mif\u001b[0m \u001b[0mioargs\u001b[0m\u001b[0;34m.\u001b[0m\u001b[0mencoding\u001b[0m \u001b[0;32mand\u001b[0m \u001b[0;34m\"b\"\u001b[0m \u001b[0;32mnot\u001b[0m \u001b[0;32min\u001b[0m \u001b[0mioargs\u001b[0m\u001b[0;34m.\u001b[0m\u001b[0mmode\u001b[0m\u001b[0;34m:\u001b[0m\u001b[0;34m\u001b[0m\u001b[0;34m\u001b[0m\u001b[0m\n\u001b[1;32m    872\u001b[0m             \u001b[0;31m# Encoding\u001b[0m\u001b[0;34m\u001b[0m\u001b[0;34m\u001b[0m\u001b[0m\n\u001b[0;32m--> 873\u001b[0;31m             handle = open(\n\u001b[0m\u001b[1;32m    874\u001b[0m                 \u001b[0mhandle\u001b[0m\u001b[0;34m,\u001b[0m\u001b[0;34m\u001b[0m\u001b[0;34m\u001b[0m\u001b[0m\n\u001b[1;32m    875\u001b[0m                 \u001b[0mioargs\u001b[0m\u001b[0;34m.\u001b[0m\u001b[0mmode\u001b[0m\u001b[0;34m,\u001b[0m\u001b[0;34m\u001b[0m\u001b[0;34m\u001b[0m\u001b[0m\n",
            "\u001b[0;31mFileNotFoundError\u001b[0m: [Errno 2] No such file or directory: '/content/Significant_Earthquakes (1).csv'"
          ]
        }
      ],
      "source": [
        "df=pd.read_csv(\"/content/Significant_Earthquakes (1).csv\")\n",
        "df.head()"
      ]
    },
    {
      "cell_type": "markdown",
      "source": [
        "Descriptive Statistics"
      ],
      "metadata": {
        "id": "kPYKexAewQr7"
      }
    },
    {
      "cell_type": "code",
      "execution_count": null,
      "metadata": {
        "collapsed": true,
        "id": "xlnLNFiNnw0h"
      },
      "outputs": [],
      "source": [
        "df.describe()"
      ]
    },
    {
      "cell_type": "code",
      "source": [
        "df.describe(include='object')"
      ],
      "metadata": {
        "id": "R_UsJ458xzbg"
      },
      "execution_count": null,
      "outputs": []
    },
    {
      "cell_type": "markdown",
      "source": [
        "Display Rows and Columns"
      ],
      "metadata": {
        "id": "Vn-KLOUSw29Q"
      }
    },
    {
      "cell_type": "code",
      "source": [
        "print('Number of rows:',df.shape[0])\n",
        "print('Number of columns:',df.shape[1])\n",
        "df.shape"
      ],
      "metadata": {
        "id": "k6yzOS_-wwgc"
      },
      "execution_count": null,
      "outputs": []
    },
    {
      "cell_type": "markdown",
      "source": [
        "*Info* about dataset"
      ],
      "metadata": {
        "id": "aV-uzzOTxLO3"
      }
    },
    {
      "cell_type": "code",
      "execution_count": null,
      "metadata": {
        "collapsed": true,
        "id": "rUMjW7DlCLeh"
      },
      "outputs": [],
      "source": [
        "df.info()"
      ]
    },
    {
      "cell_type": "code",
      "source": [
        "df.columns"
      ],
      "metadata": {
        "id": "qzlGLCOCxB2N"
      },
      "execution_count": null,
      "outputs": []
    },
    {
      "cell_type": "code",
      "source": [
        "df.dtypes"
      ],
      "metadata": {
        "id": "VCSZjMkSxook"
      },
      "execution_count": null,
      "outputs": []
    },
    {
      "cell_type": "markdown",
      "source": [
        "droping irrrelevant column\n"
      ],
      "metadata": {
        "id": "ROmqUt1WyD11"
      }
    },
    {
      "cell_type": "code",
      "execution_count": null,
      "metadata": {
        "id": "619d9fa1"
      },
      "outputs": [],
      "source": [
        "df.drop(columns=['Unnamed: 0','id','updated','status'], axis=1, inplace=True)"
      ]
    },
    {
      "cell_type": "markdown",
      "metadata": {
        "id": "yrbtruGGYBp3"
      },
      "source": [
        "# **Handling Missing Values**"
      ]
    },
    {
      "cell_type": "code",
      "source": [
        "df.isnull().sum() / len(df) * 100"
      ],
      "metadata": {
        "id": "t9OWbjIaySvr"
      },
      "execution_count": null,
      "outputs": []
    },
    {
      "cell_type": "markdown",
      "source": [
        " Bar Graph – Missing Values per Column"
      ],
      "metadata": {
        "id": "vy54-vsT5Ozf"
      }
    },
    {
      "cell_type": "code",
      "execution_count": null,
      "metadata": {
        "id": "Ze3h4j_woOVo"
      },
      "outputs": [],
      "source": [
        "missing_values = df.isnull().sum()\n",
        "missing_values = missing_values[missing_values > 0]\n",
        "\n",
        "# Plot missing values as a heatmap\n",
        "plt.figure(figsize=(12, 6))\n",
        "missing_values = missing_values.sort_values(ascending=True)\n",
        "sns.barplot(x=missing_values.index, y=missing_values.values, hue=missing_values.index, palette=\"viridis\", dodge=False, legend=False)\n",
        "plt.xticks(rotation=90)\n",
        "plt.ylabel(\"Number of Missing Values\")\n",
        "plt.title(\"Missing Values Per Feature\")\n",
        "plt.show()"
      ]
    },
    {
      "cell_type": "markdown",
      "source": [
        "Histograms – Distribution of Numerical Columns"
      ],
      "metadata": {
        "id": "98I9cVzz7ilZ"
      }
    },
    {
      "cell_type": "code",
      "source": [
        "df.hist(figsize=[20,16])\n",
        "plt.show()"
      ],
      "metadata": {
        "id": "TitkljwVzPUi"
      },
      "execution_count": null,
      "outputs": []
    },
    {
      "cell_type": "code",
      "execution_count": null,
      "metadata": {
        "id": "aqgciTtmwmnt"
      },
      "outputs": [],
      "source": [
        "num_cols = df.select_dtypes(include=['float64', 'int64']).columns\n",
        "cat_cols = df.select_dtypes(include=['object']).columns"
      ]
    },
    {
      "cell_type": "markdown",
      "source": [
        "Check skewness"
      ],
      "metadata": {
        "id": "KEcvRxD3z45y"
      }
    },
    {
      "cell_type": "code",
      "execution_count": null,
      "metadata": {
        "id": "L8wmKQHMEnzd"
      },
      "outputs": [],
      "source": [
        "# Check skewness\n",
        "# If skewness is greater than ±0.5, the feature is skewed,median is a better choice\n",
        "\n",
        "df[num_cols].skew()"
      ]
    },
    {
      "cell_type": "markdown",
      "source": [
        "\n",
        "Missing values were handled using the median imputation method for numerical columns and mode imputation for categorical columns"
      ],
      "metadata": {
        "id": "Srp91b6J0O5Q"
      }
    },
    {
      "cell_type": "code",
      "source": [
        "#missing value handling\n",
        "df[\"depth\"]=df[\"depth\"].fillna(df[\"depth\"].median())\n",
        "df[\"rms\"]=df[\"rms\"].fillna(df[\"rms\"].mean())\n",
        "df[\"place\"]=df[\"place\"].fillna(df[\"place\"].mode()[0])\n",
        "df[\"depthError\"]=df[\"depthError\"].fillna(df[\"depthError\"].mean())\n",
        "df[\"magNst\"]=df[\"magNst\"].fillna(df[\"magNst\"].median())\n",
        "df[\"gap\"]=df[\"gap\"].fillna(df[\"gap\"].median())\n",
        "df[\"nst\"]=df[\"nst\"].fillna(df[\"nst\"].median())\n",
        "df[\"dmin\"]=df[\"dmin\"].fillna(df[\"dmin\"].median())\n",
        "df[\"horizontalError\"]=df[\"horizontalError\"].fillna(df[\"horizontalError\"].median())\n",
        "df[\"magError\"]=df[\"magError\"].fillna(df[\"magError\"].median())"
      ],
      "metadata": {
        "id": "NRXD7J9Pzgwg"
      },
      "execution_count": null,
      "outputs": []
    },
    {
      "cell_type": "code",
      "source": [
        "df.isnull().sum()"
      ],
      "metadata": {
        "id": "b7riaiiyMT7Z"
      },
      "execution_count": null,
      "outputs": []
    },
    {
      "cell_type": "markdown",
      "metadata": {
        "id": "d5bec0b4"
      },
      "source": [
        "# **Outliers**\n"
      ]
    },
    {
      "cell_type": "markdown",
      "source": [
        " Box Plot – Identification of Outliers in Numerical Features"
      ],
      "metadata": {
        "id": "I6xlHbp01U4q"
      }
    },
    {
      "cell_type": "code",
      "execution_count": null,
      "metadata": {
        "id": "3234b91d",
        "scrolled": true,
        "colab": {
          "base_uri": "https://localhost:8080/",
          "height": 394
        },
        "outputId": "0e402f68-75f9-4a67-d866-68fcd3737d0b"
      },
      "outputs": [
        {
          "output_type": "error",
          "ename": "NameError",
          "evalue": "name 'df' is not defined",
          "traceback": [
            "\u001b[0;31m---------------------------------------------------------------------------\u001b[0m",
            "\u001b[0;31mNameError\u001b[0m                                 Traceback (most recent call last)",
            "\u001b[0;32m<ipython-input-5-4da2ca47941f>\u001b[0m in \u001b[0;36m<cell line: 0>\u001b[0;34m()\u001b[0m\n\u001b[1;32m      7\u001b[0m \u001b[0;32mfor\u001b[0m \u001b[0mi\u001b[0m\u001b[0;34m,\u001b[0m \u001b[0mcol\u001b[0m \u001b[0;32min\u001b[0m \u001b[0menumerate\u001b[0m\u001b[0;34m(\u001b[0m\u001b[0mnum_col\u001b[0m\u001b[0;34m,\u001b[0m \u001b[0;36m1\u001b[0m\u001b[0;34m)\u001b[0m\u001b[0;34m:\u001b[0m\u001b[0;34m\u001b[0m\u001b[0;34m\u001b[0m\u001b[0m\n\u001b[1;32m      8\u001b[0m     \u001b[0mplt\u001b[0m\u001b[0;34m.\u001b[0m\u001b[0msubplot\u001b[0m\u001b[0;34m(\u001b[0m\u001b[0;36m4\u001b[0m\u001b[0;34m,\u001b[0m \u001b[0;36m3\u001b[0m\u001b[0;34m,\u001b[0m \u001b[0mi\u001b[0m\u001b[0;34m)\u001b[0m\u001b[0;34m\u001b[0m\u001b[0;34m\u001b[0m\u001b[0m\n\u001b[0;32m----> 9\u001b[0;31m     \u001b[0msns\u001b[0m\u001b[0;34m.\u001b[0m\u001b[0mboxplot\u001b[0m\u001b[0;34m(\u001b[0m\u001b[0my\u001b[0m\u001b[0;34m=\u001b[0m\u001b[0mdf\u001b[0m\u001b[0;34m[\u001b[0m\u001b[0mcol\u001b[0m\u001b[0;34m]\u001b[0m\u001b[0;34m,\u001b[0m \u001b[0mcolor\u001b[0m\u001b[0;34m=\u001b[0m\u001b[0;34m\"cyan\"\u001b[0m\u001b[0;34m)\u001b[0m\u001b[0;34m\u001b[0m\u001b[0;34m\u001b[0m\u001b[0m\n\u001b[0m\u001b[1;32m     10\u001b[0m     \u001b[0mplt\u001b[0m\u001b[0;34m.\u001b[0m\u001b[0mtitle\u001b[0m\u001b[0;34m(\u001b[0m\u001b[0;34mf\"Boxplot of {col}\"\u001b[0m\u001b[0;34m)\u001b[0m\u001b[0;34m\u001b[0m\u001b[0;34m\u001b[0m\u001b[0m\n\u001b[1;32m     11\u001b[0m \u001b[0;34m\u001b[0m\u001b[0m\n",
            "\u001b[0;31mNameError\u001b[0m: name 'df' is not defined"
          ]
        },
        {
          "output_type": "display_data",
          "data": {
            "text/plain": [
              "<Figure size 1500x800 with 1 Axes>"
            ],
            "image/png": "[encoded data removed]"
          },
          "metadata": {}
        }
      ],
      "source": [
        "# List of numerical columns to analyze\n",
        "num_col = ['latitude', 'longitude', 'depth', 'mag', 'rms']\n",
        "\n",
        "\n",
        "plt.figure(figsize=(15, 8))\n",
        "\n",
        "for i, col in enumerate(num_col, 1):\n",
        "    plt.subplot(4, 3, i)\n",
        "    sns.boxplot(y=df[col], color=\"cyan\")\n",
        "    plt.title(f\"Boxplot of {col}\")\n",
        "\n",
        "plt.tight_layout()\n",
        "plt.show()"
      ]
    },
    {
      "cell_type": "markdown",
      "metadata": {
        "id": "95019b47"
      },
      "source": [
        "We choose not to remove outliers from the dataset because, in the context of earthquakes, outliers often represent significant or extreme seismic events. These events are crucial for accurate modeling and prediction. These extreme values are not errors; they are real and meaningful data points that reflect the unpredictable nature of natural disasters.\n",
        "\n",
        "Removing outliers could lead to a loss of important information, especially since our goal is to build a model that can handle and predict rare but impactful events like high-magnitude earthquakes."
      ]
    },
    {
      "cell_type": "markdown",
      "metadata": {
        "id": "r64-0GB1IXxG"
      },
      "source": [
        "IQR Method to Find Outliers"
      ]
    },
    {
      "cell_type": "code",
      "execution_count": null,
      "metadata": {
        "id": "iqofzK0CIVaQ"
      },
      "outputs": [],
      "source": [
        "# Function to detect outliers using IQR\n",
        "def detect_outliers_iqr(data, col):\n",
        "    Q1 = data[col].quantile(0.25)\n",
        "    Q3 = data[col].quantile(0.75)\n",
        "    IQR = Q3 - Q1\n",
        "    lower_bound = Q1 - 1.5 * IQR\n",
        "    upper_bound = Q3 + 1.5 * IQR\n",
        "\n",
        "    outliers = data[(data[col] < lower_bound) | (data[col] > upper_bound)]\n",
        "    return outliers\n",
        "\n",
        "# Check outliers for each column\n",
        "outlier_counts = {}\n",
        "for col in num_cols:\n",
        "    outliers = detect_outliers_iqr(df, col)\n",
        "    outlier_counts[col] = len(outliers)\n",
        "\n",
        "outlier_counts\n",
        "\n",
        "# If outliers represent real earthquake behavior, we should keep them\n"
      ]
    },
    {
      "cell_type": "markdown",
      "source": [
        "# **Feature Engineering**"
      ],
      "metadata": {
        "id": "b7mMCNsC0D07"
      }
    },
    {
      "cell_type": "markdown",
      "source": [
        "Extracting Year and Month From Time"
      ],
      "metadata": {
        "id": "KicUUMhZ16_f"
      }
    },
    {
      "cell_type": "code",
      "execution_count": null,
      "metadata": {
        "id": "zuhn6mvc6TBv"
      },
      "outputs": [],
      "source": [
        "# making new column for month and year\n",
        "#Convert to datetime\n",
        "df['time'] = pd.to_datetime(df['time'])\n",
        "\n",
        "# Extract year and month\n",
        "df['year'] = df['time'].dt.year\n",
        "df['month'] = df['time'].dt.month"
      ]
    },
    {
      "cell_type": "markdown",
      "source": [
        "Extracting Country from place"
      ],
      "metadata": {
        "id": "oXaE535h2JRn"
      }
    },
    {
      "cell_type": "code",
      "execution_count": null,
      "metadata": {
        "id": "GB4OAsej7DMt",
        "collapsed": true
      },
      "outputs": [],
      "source": [
        "# Extract the last word in the \"place\" column\n",
        "df[\"country\"] = df[\"place\"].str.split(\", \").str[-1]\n",
        "\n",
        "# Display unique country values to check correctness\n",
        "country_counts = df[\"country\"].value_counts()\n",
        "\n",
        "# Print each country and its count\n",
        "for country, count in country_counts.items():\n",
        "    print(f\"{country}: {count}\")"
      ]
    },
    {
      "cell_type": "code",
      "source": [
        "df.columns"
      ],
      "metadata": {
        "id": "oV_3PGp22hsY"
      },
      "execution_count": null,
      "outputs": []
    },
    {
      "cell_type": "markdown",
      "metadata": {
        "id": "x1W-n6H87QQq"
      },
      "source": [
        "# **Univariate Analysis**"
      ]
    },
    {
      "cell_type": "markdown",
      "source": [
        " Histograms –Distribution Plots of Key Features"
      ],
      "metadata": {
        "id": "-4O6ny0y3kYi"
      }
    },
    {
      "cell_type": "code",
      "execution_count": null,
      "metadata": {
        "id": "ZDM_lbc87fRQ"
      },
      "outputs": [],
      "source": [
        "num_col=['latitude', 'longitude', 'depth', 'magType', 'nst', 'gap', 'dmin', 'rms', 'horizontalError','year','magNst','magError']\n",
        "\n",
        "# Adjust the figsize to accommodate all columns\n",
        "fig, axes = plt.subplots(3, 4, figsize=(15, 10))  # 3 rows, 4 columns\n",
        "\n",
        "for i, column in enumerate(num_col):\n",
        "    row, col = divmod(i, 4)  # Calculate row and column index\n",
        "    sns.histplot(data=df, x=column, kde=True, ax=axes[row, col], color='magenta')  # Access axes using row, col\n",
        "    axes[row, col].set_title(column)\n",
        "\n",
        "plt.tight_layout()\n",
        "plt.show()"
      ]
    },
    {
      "cell_type": "markdown",
      "source": [
        "Countplot  – Distribution of  Magnitude Types"
      ],
      "metadata": {
        "id": "YHJ132ex31Y3"
      }
    },
    {
      "cell_type": "code",
      "execution_count": null,
      "metadata": {
        "id": "94siv6_n7ynz"
      },
      "outputs": [],
      "source": [
        "plt.figure(figsize=(12, 6))\n",
        "sns.countplot(df, x=\"magType\", hue=\"magType\", stat=\"percent\")\n",
        "plt.ylabel('Percentage')\n",
        "plt.title('Distribution Magnitude Type')\n",
        "plt.show()"
      ]
    },
    {
      "cell_type": "markdown",
      "source": [
        "Pie Chart – Earthquakes by Top 10 Countries"
      ],
      "metadata": {
        "id": "sEk_tbD83_X_"
      }
    },
    {
      "cell_type": "code",
      "execution_count": null,
      "metadata": {
        "id": "moILCkiH77sm"
      },
      "outputs": [],
      "source": [
        "# Select the top 10 countries\n",
        "top_countries = country_counts.head(10)\n",
        "\n",
        "# Plot Pie Chart\n",
        "plt.figure(figsize=(8, 8))\n",
        "plt.pie(top_countries, labels=top_countries.index, autopct='%1.1f%%', startangle=140, colors=plt.cm.Paired.colors)\n",
        "plt.title(\"Proportion of Earthquakes in the Top 10 Countries\")\n",
        "plt.show()"
      ]
    },
    {
      "cell_type": "markdown",
      "metadata": {
        "id": "u9B7ECY9yAeg"
      },
      "source": [
        "Violin Plot - Earthquake Magnitude Distribution per Country"
      ]
    },
    {
      "cell_type": "code",
      "execution_count": null,
      "metadata": {
        "id": "so8sYXjCyBiX"
      },
      "outputs": [],
      "source": [
        "# Select top 10 countries with most earthquakes\n",
        "top_countries = df['country'].value_counts().nlargest(10).index\n",
        "df_top = df[df['country'].isin(top_countries)]\n",
        "\n",
        "plt.figure(figsize=(12, 6))\n",
        "sns.violinplot(x='country', y='mag', data=df_top, palette=\"coolwarm\")\n",
        "plt.xticks(rotation=45)\n",
        "plt.xlabel(\"Country\")\n",
        "plt.ylabel(\"Magnitude\")\n",
        "plt.title(\"Magnitude Distribution per Country\")\n",
        "plt.grid(axis='y', linestyle='--', alpha=0.7)\n",
        "plt.show()\n"
      ]
    },
    {
      "cell_type": "markdown",
      "metadata": {
        "id": "x09JEp3TAEFW"
      },
      "source": [
        "# **Bivariate Analysis**"
      ]
    },
    {
      "cell_type": "markdown",
      "source": [
        " Scatter Plot – Earthquake Magnitude  vs  Depth"
      ],
      "metadata": {
        "id": "M1YS6Jjx9np8"
      }
    },
    {
      "cell_type": "code",
      "execution_count": null,
      "metadata": {
        "id": "DapqOPJD8POw"
      },
      "outputs": [],
      "source": [
        "plt.figure(figsize=(10, 6))\n",
        "sns.scatterplot(x=df[\"depth\"], y=df[\"mag\"], alpha=0.5)\n",
        "\n",
        "plt.xlabel(\"Depth (km)\")\n",
        "plt.ylabel(\"Magnitude\")\n",
        "plt.title(\"Magnitude vs. Depth of Earthquakes\")\n",
        "plt.grid(True)\n",
        "plt.show()"
      ]
    },
    {
      "cell_type": "markdown",
      "metadata": {
        "id": "iYjhKx6X8bj2"
      },
      "source": [
        "The majority of earthquakes occur at depths less than 100 km (left side of the graph).\n",
        "\n",
        "This suggests that shallow earthquakes are more frequent than deeper ones.\n",
        "\n",
        "Magnitudes (5.0 to 9.0) appear randomly distributed across different depths.\n",
        "\n",
        "This means that depth does not strongly influence the magnitude of an earthquake.\n",
        "\n",
        "Both shallow and deep earthquakes can have high or low magnitudes."
      ]
    },
    {
      "cell_type": "markdown",
      "source": [
        " Line Plot – Earthquake Magnitude Trend Over Years"
      ],
      "metadata": {
        "id": "4aTYjK-89wR9"
      }
    },
    {
      "cell_type": "code",
      "execution_count": null,
      "metadata": {
        "id": "Ec6wLjIf9jKH"
      },
      "outputs": [],
      "source": [
        "plt.figure(figsize=(12, 6))\n",
        "sns.lineplot(x='year', y='mag', data=df)\n",
        "plt.title('Magnitude Over Year')\n",
        "plt.xlabel('Year')\n",
        "plt.ylabel('Magnitude')\n",
        "plt.show()"
      ]
    },
    {
      "cell_type": "markdown",
      "source": [
        " Line Plot – Yearly Trend of Major Earthquakes (Magnitude > 7)"
      ],
      "metadata": {
        "id": "aghmuGbh-SNb"
      }
    },
    {
      "cell_type": "code",
      "execution_count": null,
      "metadata": {
        "id": "kr4rjT-89Txg"
      },
      "outputs": [],
      "source": [
        "# Filter earthquakes with magnitude greater than 7\n",
        "df_filtered = df[df['mag'] > 7]\n",
        "\n",
        "# Count earthquakes per year\n",
        "yearly_counts = df_filtered.groupby('year')['mag'].count()\n",
        "\n",
        "# Plot the results\n",
        "plt.figure(figsize=(12, 6))\n",
        "plt.plot(yearly_counts.index, yearly_counts.values, marker='o', linestyle='-', color='red')\n",
        "# Labels and title\n",
        "plt.xlabel(\"Year\")\n",
        "plt.ylabel(\"Number of Earthquakes (Magnitude > 7)\")\n",
        "plt.title(\"Yearly Trend of Major Earthquakes (Magnitude > 7)\")\n",
        "plt.grid(True)\n",
        "plt.show()"
      ]
    },
    {
      "cell_type": "markdown",
      "metadata": {
        "id": "LUIGPsSG9nej"
      },
      "source": [
        "# **Multivariate Analysis**"
      ]
    },
    {
      "cell_type": "markdown",
      "source": [
        " Animated World Map – Visualization of Earthquake Events"
      ],
      "metadata": {
        "id": "0tkYQet--btP"
      }
    },
    {
      "cell_type": "code",
      "execution_count": null,
      "metadata": {
        "id": "6DNuKyrq9yez"
      },
      "outputs": [],
      "source": [
        "import plotly.express as px\n",
        "fig = px.scatter_geo(df, lon='longitude', lat='latitude',size='mag', animation_frame='year', projection='natural earth',title='Earthquake Animation')\n",
        "\n",
        "fig.update_geos(\n",
        "  showcoastlines=True, coastlinecolor=\"Red\",\n",
        "showland=True, landcolor=\"rgb(200, 200, 200)\",\n",
        "showocean=True, oceancolor=\"rgb(100, 149, 237)\",\n",
        "showcountries=True, countrycolor=\"rgb(35, 35, 35)\"\n",
        ")\n",
        "\n",
        "fig.update_layout(\n",
        "    height=1000,\n",
        "    width= 1000\n",
        ")\n",
        "\n",
        "fig.show()"
      ]
    },
    {
      "cell_type": "markdown",
      "source": [
        " World Map – Global Distribution of Major Earthquakes (1900 to Present)"
      ],
      "metadata": {
        "id": "En0-l0WT-iTz"
      }
    },
    {
      "cell_type": "code",
      "source": [
        "!pip install cartopy"
      ],
      "metadata": {
        "collapsed": true,
        "id": "J5pVW21OKpbg"
      },
      "execution_count": null,
      "outputs": []
    },
    {
      "cell_type": "code",
      "execution_count": null,
      "metadata": {
        "id": "_WXN5g1995Lw"
      },
      "outputs": [],
      "source": [
        "import cartopy\n",
        "import cartopy.crs as ccrs\n",
        "import cartopy.feature as cfeature\n",
        "\n",
        "\n",
        "\n",
        "# Create a figure and add a map projection\n",
        "fig, ax = plt.subplots(figsize=(12, 6), subplot_kw={\"projection\": ccrs.PlateCarree()})\n",
        "\n",
        "# Add features: land, borders, and coastlines\n",
        "ax.add_feature(cfeature.LAND, color=\"lightgreen\")\n",
        "ax.add_feature(cfeature.BORDERS, linestyle=\":\")\n",
        "ax.add_feature(cfeature.COASTLINE)\n",
        "\n",
        "# Scatter plot of earthquake locations\n",
        "sc = ax.scatter(df['longitude'], df['latitude'],\n",
        "                c=df['mag'], cmap='Blues', alpha=0.6, edgecolors=\"black\",\n",
        "                transform=ccrs.PlateCarree())\n",
        "\n",
        "# Add title\n",
        "ax.set_title(\"Major Earthquakes 1900-2025\")\n",
        "\n",
        "# Show the plot\n",
        "plt.show()\n"
      ]
    },
    {
      "cell_type": "markdown",
      "source": [
        " World Map – Earthquake Locations and Magnitude Representation"
      ],
      "metadata": {
        "id": "MIDwP5dr-kxo"
      }
    },
    {
      "cell_type": "code",
      "source": [
        "import matplotlib.pyplot as plt\n",
        "\n",
        "plt.style.use('seaborn-v0_8-darkgrid')\n",
        "\n",
        "# Define plot size\n",
        "plt.figure(figsize=(15, 8))\n",
        "\n",
        "# Plot the scatter map using existing longitude and latitude\n",
        "scatter = plt.scatter(\n",
        "    df['longitude'],\n",
        "    df['latitude'],\n",
        "    c=df['mag'],\n",
        "    cmap='coolwarm',\n",
        "    s=(10 / (df['depth'] + 1)) * 50,\n",
        "    alpha=0.7,\n",
        "    edgecolors='k'\n",
        ")\n",
        "\n",
        "# Add colorbar and labels\n",
        "cbar = plt.colorbar(scatter)\n",
        "cbar.set_label(\"Earthquake Magnitude\", fontsize=12)\n",
        "\n",
        "plt.xlabel(\"Longitude\", fontsize=12)\n",
        "plt.ylabel(\"Latitude\", fontsize=12)\n",
        "plt.title(\"Global Earthquake Distribution by Magnitude\", fontsize=14, fontweight=\"bold\")\n",
        "\n",
        "plt.show()\n"
      ],
      "metadata": {
        "id": "hs8LcQT_O05s"
      },
      "execution_count": null,
      "outputs": []
    },
    {
      "cell_type": "code",
      "source": [
        "df.columns"
      ],
      "metadata": {
        "id": "nxRfhXV4CApM"
      },
      "execution_count": null,
      "outputs": []
    },
    {
      "cell_type": "markdown",
      "source": [
        "Droping Columns which not taking for features"
      ],
      "metadata": {
        "id": "74zIVVKJCw_t"
      }
    },
    {
      "cell_type": "code",
      "source": [
        "df.drop(columns=['time','magSource','locationSource','depthError','net','place','type'], axis=1, inplace=True)"
      ],
      "metadata": {
        "id": "IM0fbo95Cwd1"
      },
      "execution_count": null,
      "outputs": []
    },
    {
      "cell_type": "markdown",
      "metadata": {
        "id": "9ffc843d"
      },
      "source": [
        "# **Label Encoding**"
      ]
    },
    {
      "cell_type": "code",
      "execution_count": null,
      "metadata": {
        "id": "c69ada7f"
      },
      "outputs": [],
      "source": [
        "le = LabelEncoder()\n",
        "df['magType'] = le.fit_transform(df['magType'])\n",
        "df['country'] = le.fit_transform(df['country'])\n",
        "print(df)"
      ]
    },
    {
      "cell_type": "markdown",
      "source": [
        "**features and target Selection**"
      ],
      "metadata": {
        "id": "3P2FLC7jDE_E"
      }
    },
    {
      "cell_type": "code",
      "execution_count": null,
      "metadata": {
        "id": "epk33h3i0eiQ"
      },
      "outputs": [],
      "source": [
        "# Select relevant columns\n",
        "features = ['latitude', 'longitude', 'depth', 'magType', 'nst', 'gap','magError','dmin', 'rms', 'horizontalError', 'magNst', 'year']\n",
        "target = 'mag'"
      ]
    },
    {
      "cell_type": "code",
      "source": [
        "# Features and target\n",
        "X = df[features]\n",
        "y = df[target]"
      ],
      "metadata": {
        "id": "wbQLJsDpDZ_i"
      },
      "execution_count": null,
      "outputs": []
    },
    {
      "cell_type": "markdown",
      "source": [
        "Heatmap – Correlation Among Earthquake Features"
      ],
      "metadata": {
        "id": "7La-pYt7FHTI"
      }
    },
    {
      "cell_type": "code",
      "source": [
        "# Calculate the correlation matrix only for numerical features\n",
        "correlation_matrix = df.corr()\n",
        "\n",
        "# Create the heatmap\n",
        "plt.figure(figsize=(10, 6))\n",
        "sns.heatmap(correlation_matrix, annot=True, cmap=\"coolwarm\", fmt=\".2f\", linewidths=0.5)\n",
        "plt.title(\"Feature Correlation Heatmap\")\n",
        "plt.show()"
      ],
      "metadata": {
        "id": "wvts3c2FFA0U"
      },
      "execution_count": null,
      "outputs": []
    },
    {
      "cell_type": "markdown",
      "source": [
        "# **Standard Scaling**"
      ],
      "metadata": {
        "id": "FO5s1BfrDmyJ"
      }
    },
    {
      "cell_type": "code",
      "execution_count": null,
      "metadata": {
        "id": "8VHQFzG1gwW9"
      },
      "outputs": [],
      "source": [
        "X_train, X_test, y_train, y_test = train_test_split(X, y, test_size=0.2, random_state=42)"
      ]
    },
    {
      "cell_type": "code",
      "execution_count": null,
      "metadata": {
        "id": "RwoBM_ueiYst"
      },
      "outputs": [],
      "source": [
        "X.head()"
      ]
    },
    {
      "cell_type": "code",
      "execution_count": null,
      "metadata": {
        "id": "9Gnqj4dHibqS"
      },
      "outputs": [],
      "source": [
        "y.head()"
      ]
    },
    {
      "cell_type": "code",
      "source": [
        "# Scaling\n",
        "scaler = StandardScaler()\n",
        "X_train = scaler.fit_transform(X_train)\n",
        "X_test = scaler.transform(X_test)\n"
      ],
      "metadata": {
        "id": "EJrg-PRdEfz6"
      },
      "execution_count": null,
      "outputs": []
    },
    {
      "cell_type": "markdown",
      "source": [
        "# **Model Selection**"
      ],
      "metadata": {
        "id": "9fC2Lv1UELrD"
      }
    },
    {
      "cell_type": "markdown",
      "metadata": {
        "id": "JKc_xcs4bVzt"
      },
      "source": [
        "# **Linear Regression**"
      ]
    },
    {
      "cell_type": "code",
      "execution_count": null,
      "metadata": {
        "id": "sh8qs7bKbadW"
      },
      "outputs": [],
      "source": [
        "\n",
        "from sklearn.linear_model import LinearRegression\n",
        "lr= LinearRegression()\n",
        "\n",
        "# Train the model\n",
        "lr.fit(X_train, y_train)\n",
        "\n",
        "# Make predictions\n",
        "y_pred_lr = lr.predict(X_test)\n",
        "\n",
        "r2_lr = r2_score(y_test, y_pred_lr)\n",
        "mse_lr = mean_squared_error(y_test, y_pred_lr)\n",
        "rmse_lr = np.sqrt(mse_lr)\n"
      ]
    },
    {
      "cell_type": "code",
      "execution_count": null,
      "metadata": {
        "id": "hzdQzY09eLoe"
      },
      "outputs": [],
      "source": [
        "print(\"r2 of linear regression\",r2_lr)\n",
        "print(\"mse of linear regression\",mse_lr)\n",
        "print(\"rmse of linear regression\",rmse_lr)\n"
      ]
    },
    {
      "cell_type": "markdown",
      "metadata": {
        "id": "AlO9t61ddOqj"
      },
      "source": [
        "# **SVM**"
      ]
    },
    {
      "cell_type": "code",
      "execution_count": null,
      "metadata": {
        "id": "6q8FbbHWjkIH"
      },
      "outputs": [],
      "source": [
        "from sklearn.svm import SVR\n",
        "from sklearn.metrics import r2_score, mean_squared_error\n",
        "import numpy as np\n",
        "\n",
        "svr = SVR(kernel='rbf')\n",
        "svr.fit(X_train, y_train)\n",
        "\n",
        "y_pred_svm = svr.predict(X_test)\n",
        "\n",
        "r2_svm = r2_score(y_test, y_pred_svm)\n",
        "mse_svm = mean_squared_error(y_test, y_pred_svm)\n",
        "rmse_svm = np.sqrt(mse_svm)\n",
        "\n",
        "print(\"r2 of linear regression\",r2_svm)\n",
        "print(\"mse of linear regression\",mse_svm)\n",
        "print(\"rmse of linear regression\",rmse_svm)\n"
      ]
    },
    {
      "cell_type": "markdown",
      "metadata": {
        "id": "VsACpRAHfV3v"
      },
      "source": [
        "# **Desicion Tree**"
      ]
    },
    {
      "cell_type": "code",
      "execution_count": null,
      "metadata": {
        "id": "uj8Jd2iJfl13"
      },
      "outputs": [],
      "source": [
        "from sklearn.tree import DecisionTreeRegressor\n",
        "\n",
        "\n",
        "# Train the model\n",
        "dt= DecisionTreeRegressor(random_state=42)\n",
        "dt.fit(X_train, y_train)\n",
        "\n",
        "# Predict\n",
        "y_pred_dt = dt.predict(X_test)\n",
        "\n",
        "# Evaluation\n",
        "r2_dt = r2_score(y_test, y_pred_dt)\n",
        "mse_dt = mean_squared_error(y_test, y_pred_dt)\n",
        "rmse_dt = np.sqrt(mse_dt)\n",
        "\n"
      ]
    },
    {
      "cell_type": "code",
      "execution_count": null,
      "metadata": {
        "id": "wQnLBWRTi4ic"
      },
      "outputs": [],
      "source": [
        "print(\"r2 of Decison Tree\",r2_dt)\n",
        "print(\"mse of Decision Tree\",mse_dt)\n",
        "print(\"rmse of Decision Tree\",rmse_dt)\n"
      ]
    },
    {
      "cell_type": "markdown",
      "metadata": {
        "id": "Dx3ZF028bFhp"
      },
      "source": [
        "# **Random Forest**"
      ]
    },
    {
      "cell_type": "code",
      "execution_count": null,
      "metadata": {
        "id": "e1d9b9a6"
      },
      "outputs": [],
      "source": [
        "from sklearn.ensemble import RandomForestRegressor\n",
        "\n",
        "# Train the model\n",
        "rf= RandomForestRegressor(n_estimators=100, random_state=42)\n",
        "rf.fit(X_train, y_train)\n",
        "\n",
        "# Predict\n",
        "y_pred_rf= rf.predict(X_test)\n",
        "\n",
        "# Evaluation\n",
        "r2_rf = r2_score(y_test, y_pred_rf)\n",
        "mse_rf = mean_squared_error(y_test, y_pred_rf)\n",
        "rmse_rf = np.sqrt(mse_rf)\n",
        "\n",
        "print(\"r2 of Decison Tree\",r2_rf)\n",
        "print(\"mse of Decision Tree\",mse_rf)\n",
        "print(\"rmse of Decision Tree\",rmse_rf)"
      ]
    },
    {
      "cell_type": "markdown",
      "metadata": {
        "id": "WLdskj3Lypuh"
      },
      "source": [
        "# **Hyper Tunning Random Forest**"
      ]
    },
    {
      "cell_type": "code",
      "execution_count": null,
      "metadata": {
        "id": "ClOML-xDuEjl"
      },
      "outputs": [],
      "source": [
        "# Select relevant columns\n",
        "X = df[['latitude', 'longitude', 'depth', 'magType', 'nst', 'gap',\n",
        "        'dmin', 'rms', 'horizontalError','year','magNst','magError']]\n",
        "y = df['mag']"
      ]
    },
    {
      "cell_type": "code",
      "execution_count": null,
      "metadata": {
        "id": "9LhxmaoZuErD"
      },
      "outputs": [],
      "source": [
        "from sklearn.model_selection import train_test_split\n",
        "X_train,X_test,y_train,y_test = train_test_split(X,y,test_size=0.25,random_state=42)"
      ]
    },
    {
      "cell_type": "code",
      "execution_count": null,
      "metadata": {
        "id": "PNFkazQRuEtE"
      },
      "outputs": [],
      "source": [
        "from sklearn.ensemble import RandomForestRegressor\n",
        "rf_ht=RandomForestRegressor(\n",
        "    n_estimators=1500,\n",
        "    max_depth=20,\n",
        "    min_samples_split=5,\n",
        "    min_samples_leaf=2,\n",
        "    random_state=42\n",
        ")\n",
        "rf_ht.fit(X_train,y_train)"
      ]
    },
    {
      "cell_type": "code",
      "execution_count": null,
      "metadata": {
        "id": "0eTNeIx4uExQ"
      },
      "outputs": [],
      "source": [
        "y_pred_rfht = rf_ht.predict(X_test)\n",
        "\n",
        "# Evaluation\n",
        "r2_rfht = r2_score(y_test, y_pred_rfht)\n",
        "mse_rfht = mean_squared_error(y_test, y_pred_rfht)\n",
        "rmse_rfht = np.sqrt(mse_rfht)\n",
        "\n",
        "print(\"r2 of Decison Tree\",r2_rfht)\n",
        "print(\"mse of Decision Tree\",mse_rfht)\n",
        "print(\"rmse of Decision Tree\",rmse_rfht)"
      ]
    },
    {
      "cell_type": "markdown",
      "source": [
        "Regression Model results"
      ],
      "metadata": {
        "id": "PMueLgjpHxaX"
      }
    },
    {
      "cell_type": "code",
      "execution_count": null,
      "metadata": {
        "id": "Pcs9g5GQX_I_"
      },
      "outputs": [],
      "source": [
        "regression_results = pd.DataFrame({\n",
        "    'Model': ['Linear Regression', 'Decision Tree', 'Random Forest', 'SVM',\"Random Forest Hyper Tuned\" ],\n",
        "    'R2 Score': [r2_lr, r2_dt, r2_rf, r2_svm, r2_rfht],\n",
        "    'MSE': [mse_lr, mse_dt, mse_rf, mse_svm, mse_rfht],\n",
        "    'RMSE': [rmse_lr, rmse_dt, rmse_rf, rmse_svm, rmse_rfht]\n",
        "})\n",
        "\n",
        "print(regression_results)\n"
      ]
    },
    {
      "cell_type": "markdown",
      "source": [
        "Based on these results, the Random Forest models, especially the hyperparameter-tuned version, appear to be the most suitable for predicting the target variable in your dataset"
      ],
      "metadata": {
        "id": "fzvmMK50IGq6"
      }
    },
    {
      "cell_type": "code",
      "source": [
        "import pickle\n",
        "\n",
        "# Save trained RandomForestRegressor model\n",
        "with open('earthquake_model.pkl', 'wb') as f:\n",
        "    pickle.dump(rf_ht, f)\n",
        "# Comprsesing the model\n",
        "import joblib\n",
        "joblib.dump(rf_ht, 'earthquake_model.pkl', compress=3)\n",
        "\n",
        "# Save the scaler\n",
        "with open('scaler.pkl', 'wb') as f:\n",
        "    pickle.dump(scaler, f)\n",
        "\n",
        "# Save the label encoder\n",
        "with open('magType_encoder.pkl', 'wb') as f:\n",
        "    pickle.dump(le, f)"
      ],
      "metadata": {
        "id": "miq0RzCbJW-y"
      },
      "execution_count": null,
      "outputs": []
    }
  ],
  "metadata": {
    "colab": {
      "provenance": []
    },
    "kernelspec": {
      "display_name": "Python 3",
      "name": "python3"
    },
    "language_info": {
      "name": "python"
    }
  },
  "nbformat": 4,
  "nbformat_minor": 0
}